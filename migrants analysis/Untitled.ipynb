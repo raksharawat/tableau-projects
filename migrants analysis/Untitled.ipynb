{
 "cells": [
  {
   "cell_type": "code",
   "execution_count": 1,
   "metadata": {},
   "outputs": [],
   "source": [
    "import pandas as pd"
   ]
  },
  {
   "cell_type": "code",
   "execution_count": 2,
   "metadata": {},
   "outputs": [],
   "source": [
    "df=pd.read_excel('est-testanalysis.xlsx')"
   ]
  },
  {
   "cell_type": "code",
   "execution_count": 3,
   "metadata": {},
   "outputs": [
    {
     "data": {
      "text/html": [
       "<div>\n",
       "<style scoped>\n",
       "    .dataframe tbody tr th:only-of-type {\n",
       "        vertical-align: middle;\n",
       "    }\n",
       "\n",
       "    .dataframe tbody tr th {\n",
       "        vertical-align: top;\n",
       "    }\n",
       "\n",
       "    .dataframe thead th {\n",
       "        text-align: right;\n",
       "    }\n",
       "</style>\n",
       "<table border=\"1\" class=\"dataframe\">\n",
       "  <thead>\n",
       "    <tr style=\"text-align: right;\">\n",
       "      <th></th>\n",
       "      <th>1</th>\n",
       "      <th>District Name</th>\n",
       "      <th>Block Name</th>\n",
       "      <th>Migrant Age</th>\n",
       "      <th>Migrant Gender</th>\n",
       "      <th>Migrant ID type</th>\n",
       "      <th>Date of Arrival</th>\n",
       "      <th>City Coming From</th>\n",
       "      <th>Health Check up when leaving city?</th>\n",
       "      <th>Skill</th>\n",
       "      <th>Years of Experience</th>\n",
       "      <th>Alternate Skill</th>\n",
       "      <th>Where did you work</th>\n",
       "      <th>19</th>\n",
       "    </tr>\n",
       "  </thead>\n",
       "  <tbody>\n",
       "    <tr>\n",
       "      <th>0</th>\n",
       "      <td>1</td>\n",
       "      <td>BASTI SADAR</td>\n",
       "      <td>BAHADUR PUR</td>\n",
       "      <td>15.0</td>\n",
       "      <td>M</td>\n",
       "      <td>ADHAR</td>\n",
       "      <td>2020-09-05 00:00:00</td>\n",
       "      <td>MUMBAI</td>\n",
       "      <td>YES</td>\n",
       "      <td>LABOUR</td>\n",
       "      <td>7</td>\n",
       "      <td>NaN</td>\n",
       "      <td>NaN</td>\n",
       "      <td>NaN</td>\n",
       "    </tr>\n",
       "    <tr>\n",
       "      <th>1</th>\n",
       "      <td>2</td>\n",
       "      <td>BASTI SADAR</td>\n",
       "      <td>BAHADUR PUR</td>\n",
       "      <td>22.0</td>\n",
       "      <td>M</td>\n",
       "      <td>ADHAR</td>\n",
       "      <td>2020-09-05 00:00:00</td>\n",
       "      <td>MUMBAI</td>\n",
       "      <td>YES</td>\n",
       "      <td>LABOUR</td>\n",
       "      <td>5</td>\n",
       "      <td>NaN</td>\n",
       "      <td>NaN</td>\n",
       "      <td>NaN</td>\n",
       "    </tr>\n",
       "    <tr>\n",
       "      <th>2</th>\n",
       "      <td>3</td>\n",
       "      <td>BASTI SADAR</td>\n",
       "      <td>Bahadur pur</td>\n",
       "      <td>20.0</td>\n",
       "      <td>F</td>\n",
       "      <td>NaN</td>\n",
       "      <td>29-04-2020</td>\n",
       "      <td>Prayagraj</td>\n",
       "      <td>YES</td>\n",
       "      <td>NaN</td>\n",
       "      <td>NaN</td>\n",
       "      <td>NaN</td>\n",
       "      <td>NaN</td>\n",
       "      <td>NaN</td>\n",
       "    </tr>\n",
       "    <tr>\n",
       "      <th>3</th>\n",
       "      <td>4</td>\n",
       "      <td>BASTI SADAR</td>\n",
       "      <td>Bahadur pur</td>\n",
       "      <td>21.0</td>\n",
       "      <td>M</td>\n",
       "      <td>NaN</td>\n",
       "      <td>29-04-2020</td>\n",
       "      <td>Prayagraj</td>\n",
       "      <td>YES</td>\n",
       "      <td>NaN</td>\n",
       "      <td>NaN</td>\n",
       "      <td>NaN</td>\n",
       "      <td>NaN</td>\n",
       "      <td>NaN</td>\n",
       "    </tr>\n",
       "    <tr>\n",
       "      <th>4</th>\n",
       "      <td>5</td>\n",
       "      <td>BASTI SADAR</td>\n",
       "      <td>Bahadur pur</td>\n",
       "      <td>21.0</td>\n",
       "      <td>M</td>\n",
       "      <td>NaN</td>\n",
       "      <td>29-04-2020</td>\n",
       "      <td>Prayagraj</td>\n",
       "      <td>YES</td>\n",
       "      <td>NaN</td>\n",
       "      <td>NaN</td>\n",
       "      <td>NaN</td>\n",
       "      <td>NaN</td>\n",
       "      <td>NaN</td>\n",
       "    </tr>\n",
       "  </tbody>\n",
       "</table>\n",
       "</div>"
      ],
      "text/plain": [
       "   1 District Name   Block Name  Migrant Age Migrant Gender Migrant ID type  \\\n",
       "0  1   BASTI SADAR  BAHADUR PUR         15.0              M           ADHAR   \n",
       "1  2   BASTI SADAR  BAHADUR PUR         22.0              M           ADHAR   \n",
       "2  3   BASTI SADAR  Bahadur pur         20.0              F             NaN   \n",
       "3  4   BASTI SADAR  Bahadur pur         21.0              M             NaN   \n",
       "4  5   BASTI SADAR  Bahadur pur         21.0              M             NaN   \n",
       "\n",
       "       Date of Arrival City Coming From Health Check up when leaving city?  \\\n",
       "0  2020-09-05 00:00:00           MUMBAI                                YES   \n",
       "1  2020-09-05 00:00:00           MUMBAI                                YES   \n",
       "2           29-04-2020        Prayagraj                                YES   \n",
       "3           29-04-2020        Prayagraj                                YES   \n",
       "4           29-04-2020        Prayagraj                                YES   \n",
       "\n",
       "    Skill Years of Experience Alternate Skill Where did you work  19  \n",
       "0  LABOUR                   7             NaN                NaN NaN  \n",
       "1  LABOUR                   5             NaN                NaN NaN  \n",
       "2     NaN                 NaN             NaN                NaN NaN  \n",
       "3     NaN                 NaN             NaN                NaN NaN  \n",
       "4     NaN                 NaN             NaN                NaN NaN  "
      ]
     },
     "execution_count": 3,
     "metadata": {},
     "output_type": "execute_result"
    }
   ],
   "source": [
    "df.head()"
   ]
  },
  {
   "cell_type": "code",
   "execution_count": 4,
   "metadata": {},
   "outputs": [],
   "source": [
    "df.drop([19], axis = 1, inplace = True) "
   ]
  },
  {
   "cell_type": "code",
   "execution_count": 5,
   "metadata": {},
   "outputs": [],
   "source": [
    "df.rename(columns = {1: 'S.No.'},inplace=True)"
   ]
  },
  {
   "cell_type": "code",
   "execution_count": 6,
   "metadata": {},
   "outputs": [
    {
     "data": {
      "text/html": [
       "<div>\n",
       "<style scoped>\n",
       "    .dataframe tbody tr th:only-of-type {\n",
       "        vertical-align: middle;\n",
       "    }\n",
       "\n",
       "    .dataframe tbody tr th {\n",
       "        vertical-align: top;\n",
       "    }\n",
       "\n",
       "    .dataframe thead th {\n",
       "        text-align: right;\n",
       "    }\n",
       "</style>\n",
       "<table border=\"1\" class=\"dataframe\">\n",
       "  <thead>\n",
       "    <tr style=\"text-align: right;\">\n",
       "      <th></th>\n",
       "      <th>S.No.</th>\n",
       "      <th>District Name</th>\n",
       "      <th>Block Name</th>\n",
       "      <th>Migrant Age</th>\n",
       "      <th>Migrant Gender</th>\n",
       "      <th>Migrant ID type</th>\n",
       "      <th>Date of Arrival</th>\n",
       "      <th>City Coming From</th>\n",
       "      <th>Health Check up when leaving city?</th>\n",
       "      <th>Skill</th>\n",
       "      <th>Years of Experience</th>\n",
       "      <th>Alternate Skill</th>\n",
       "      <th>Where did you work</th>\n",
       "    </tr>\n",
       "  </thead>\n",
       "  <tbody>\n",
       "    <tr>\n",
       "      <th>0</th>\n",
       "      <td>1</td>\n",
       "      <td>BASTI SADAR</td>\n",
       "      <td>BAHADUR PUR</td>\n",
       "      <td>15.0</td>\n",
       "      <td>M</td>\n",
       "      <td>ADHAR</td>\n",
       "      <td>2020-09-05 00:00:00</td>\n",
       "      <td>MUMBAI</td>\n",
       "      <td>YES</td>\n",
       "      <td>LABOUR</td>\n",
       "      <td>7</td>\n",
       "      <td>NaN</td>\n",
       "      <td>NaN</td>\n",
       "    </tr>\n",
       "    <tr>\n",
       "      <th>1</th>\n",
       "      <td>2</td>\n",
       "      <td>BASTI SADAR</td>\n",
       "      <td>BAHADUR PUR</td>\n",
       "      <td>22.0</td>\n",
       "      <td>M</td>\n",
       "      <td>ADHAR</td>\n",
       "      <td>2020-09-05 00:00:00</td>\n",
       "      <td>MUMBAI</td>\n",
       "      <td>YES</td>\n",
       "      <td>LABOUR</td>\n",
       "      <td>5</td>\n",
       "      <td>NaN</td>\n",
       "      <td>NaN</td>\n",
       "    </tr>\n",
       "    <tr>\n",
       "      <th>2</th>\n",
       "      <td>3</td>\n",
       "      <td>BASTI SADAR</td>\n",
       "      <td>Bahadur pur</td>\n",
       "      <td>20.0</td>\n",
       "      <td>F</td>\n",
       "      <td>NaN</td>\n",
       "      <td>29-04-2020</td>\n",
       "      <td>Prayagraj</td>\n",
       "      <td>YES</td>\n",
       "      <td>NaN</td>\n",
       "      <td>NaN</td>\n",
       "      <td>NaN</td>\n",
       "      <td>NaN</td>\n",
       "    </tr>\n",
       "    <tr>\n",
       "      <th>3</th>\n",
       "      <td>4</td>\n",
       "      <td>BASTI SADAR</td>\n",
       "      <td>Bahadur pur</td>\n",
       "      <td>21.0</td>\n",
       "      <td>M</td>\n",
       "      <td>NaN</td>\n",
       "      <td>29-04-2020</td>\n",
       "      <td>Prayagraj</td>\n",
       "      <td>YES</td>\n",
       "      <td>NaN</td>\n",
       "      <td>NaN</td>\n",
       "      <td>NaN</td>\n",
       "      <td>NaN</td>\n",
       "    </tr>\n",
       "    <tr>\n",
       "      <th>4</th>\n",
       "      <td>5</td>\n",
       "      <td>BASTI SADAR</td>\n",
       "      <td>Bahadur pur</td>\n",
       "      <td>21.0</td>\n",
       "      <td>M</td>\n",
       "      <td>NaN</td>\n",
       "      <td>29-04-2020</td>\n",
       "      <td>Prayagraj</td>\n",
       "      <td>YES</td>\n",
       "      <td>NaN</td>\n",
       "      <td>NaN</td>\n",
       "      <td>NaN</td>\n",
       "      <td>NaN</td>\n",
       "    </tr>\n",
       "  </tbody>\n",
       "</table>\n",
       "</div>"
      ],
      "text/plain": [
       "   S.No. District Name   Block Name  Migrant Age Migrant Gender  \\\n",
       "0      1   BASTI SADAR  BAHADUR PUR         15.0              M   \n",
       "1      2   BASTI SADAR  BAHADUR PUR         22.0              M   \n",
       "2      3   BASTI SADAR  Bahadur pur         20.0              F   \n",
       "3      4   BASTI SADAR  Bahadur pur         21.0              M   \n",
       "4      5   BASTI SADAR  Bahadur pur         21.0              M   \n",
       "\n",
       "  Migrant ID type      Date of Arrival City Coming From  \\\n",
       "0           ADHAR  2020-09-05 00:00:00           MUMBAI   \n",
       "1           ADHAR  2020-09-05 00:00:00           MUMBAI   \n",
       "2             NaN           29-04-2020        Prayagraj   \n",
       "3             NaN           29-04-2020        Prayagraj   \n",
       "4             NaN           29-04-2020        Prayagraj   \n",
       "\n",
       "  Health Check up when leaving city?   Skill Years of Experience  \\\n",
       "0                                YES  LABOUR                   7   \n",
       "1                                YES  LABOUR                   5   \n",
       "2                                YES     NaN                 NaN   \n",
       "3                                YES     NaN                 NaN   \n",
       "4                                YES     NaN                 NaN   \n",
       "\n",
       "  Alternate Skill Where did you work  \n",
       "0             NaN                NaN  \n",
       "1             NaN                NaN  \n",
       "2             NaN                NaN  \n",
       "3             NaN                NaN  \n",
       "4             NaN                NaN  "
      ]
     },
     "execution_count": 6,
     "metadata": {},
     "output_type": "execute_result"
    }
   ],
   "source": [
    "df.head()"
   ]
  },
  {
   "cell_type": "code",
   "execution_count": 7,
   "metadata": {},
   "outputs": [
    {
     "data": {
      "text/plain": [
       "(710, 13)"
      ]
     },
     "execution_count": 7,
     "metadata": {},
     "output_type": "execute_result"
    }
   ],
   "source": [
    "df.shape"
   ]
  },
  {
   "cell_type": "code",
   "execution_count": 8,
   "metadata": {},
   "outputs": [
    {
     "name": "stdout",
     "output_type": "stream",
     "text": [
      "<class 'pandas.core.frame.DataFrame'>\n",
      "RangeIndex: 710 entries, 0 to 709\n",
      "Data columns (total 13 columns):\n",
      " #   Column                              Non-Null Count  Dtype  \n",
      "---  ------                              --------------  -----  \n",
      " 0   S.No.                               710 non-null    int64  \n",
      " 1   District Name                       710 non-null    object \n",
      " 2   Block Name                          710 non-null    object \n",
      " 3   Migrant Age                         707 non-null    float64\n",
      " 4   Migrant Gender                      710 non-null    object \n",
      " 5   Migrant ID type                     680 non-null    object \n",
      " 6   Date of Arrival                     710 non-null    object \n",
      " 7   City Coming From                    706 non-null    object \n",
      " 8   Health Check up when leaving city?  700 non-null    object \n",
      " 9   Skill                               644 non-null    object \n",
      " 10  Years of Experience                 596 non-null    object \n",
      " 11  Alternate Skill                     106 non-null    object \n",
      " 12  Where did you work                  119 non-null    object \n",
      "dtypes: float64(1), int64(1), object(11)\n",
      "memory usage: 72.2+ KB\n"
     ]
    }
   ],
   "source": [
    "df.info()"
   ]
  },
  {
   "cell_type": "code",
   "execution_count": 9,
   "metadata": {},
   "outputs": [
    {
     "data": {
      "text/plain": [
       "array(['BASTI SADAR', 'HARRAIYA', 'BAST BASTI SADAR', 'BHANPUR',\n",
       "       'RUDHAULI'], dtype=object)"
      ]
     },
     "execution_count": 9,
     "metadata": {},
     "output_type": "execute_result"
    }
   ],
   "source": [
    "df['District Name'].unique()"
   ]
  },
  {
   "cell_type": "code",
   "execution_count": 10,
   "metadata": {},
   "outputs": [],
   "source": [
    "df['District Name'].replace({'BAST BASTI SADAR':'BASTI SADAR'}, inplace=True)"
   ]
  },
  {
   "cell_type": "code",
   "execution_count": 11,
   "metadata": {},
   "outputs": [
    {
     "data": {
      "text/plain": [
       "array(['BASTI SADAR', 'HARRAIYA', 'BHANPUR', 'RUDHAULI'], dtype=object)"
      ]
     },
     "execution_count": 11,
     "metadata": {},
     "output_type": "execute_result"
    }
   ],
   "source": [
    "df['District Name'].unique()"
   ]
  },
  {
   "cell_type": "code",
   "execution_count": 12,
   "metadata": {},
   "outputs": [
    {
     "data": {
      "text/plain": [
       "array(['BAHADUR PUR', 'Bahadur pur', 'Bahadur Pur', 'BAHADURPUR',\n",
       "       'Bahdhur', 'BAHDURPR', 'BAHDURPUR', 'Bhadhur', 'BHADHUR',\n",
       "       'Bhadhur pur', 'BHADHUR PUR', 'Bhadhurpur', 'BHADHURPUR',\n",
       "       'BHADURPUR', 'बहादुरपुर'], dtype=object)"
      ]
     },
     "execution_count": 12,
     "metadata": {},
     "output_type": "execute_result"
    }
   ],
   "source": [
    "df['Block Name'].unique()"
   ]
  },
  {
   "cell_type": "code",
   "execution_count": 13,
   "metadata": {},
   "outputs": [],
   "source": [
    "df.replace(['BAHADUR PUR', 'Bahadur pur', 'Bahadur Pur','Bahdhur', 'BAHDURPR', 'BAHDURPUR', 'Bhadhur', 'BHADHUR',\n",
    "       'Bhadhur pur', 'BHADHUR PUR', 'Bhadhurpur', 'BHADHURPUR',\n",
    "       'BHADURPUR', 'बहादुरपुर'], 'BAHADURPUR',inplace=True)"
   ]
  },
  {
   "cell_type": "code",
   "execution_count": 14,
   "metadata": {},
   "outputs": [
    {
     "data": {
      "text/plain": [
       "array(['BAHADURPUR'], dtype=object)"
      ]
     },
     "execution_count": 14,
     "metadata": {},
     "output_type": "execute_result"
    }
   ],
   "source": [
    "df['Block Name'].unique()"
   ]
  },
  {
   "cell_type": "code",
   "execution_count": 15,
   "metadata": {},
   "outputs": [
    {
     "data": {
      "text/plain": [
       "array(['M', 'F', 'U'], dtype=object)"
      ]
     },
     "execution_count": 15,
     "metadata": {},
     "output_type": "execute_result"
    }
   ],
   "source": [
    "df['Migrant Gender'].unique()  "
   ]
  },
  {
   "cell_type": "code",
   "execution_count": 16,
   "metadata": {},
   "outputs": [],
   "source": [
    "df['Migrant Age']=df['Migrant Age'].fillna(df['Migrant Age'].mean()) "
   ]
  },
  {
   "cell_type": "code",
   "execution_count": 17,
   "metadata": {},
   "outputs": [
    {
     "data": {
      "text/plain": [
       "array(['ADHAR', nan, 'AADHAR', 'VOTER ID', 'AADHARE', 'ADDHAR', 'OTER ID',\n",
       "       'vk/kkj', 'PAN CARD', 'AAHAR'], dtype=object)"
      ]
     },
     "execution_count": 17,
     "metadata": {},
     "output_type": "execute_result"
    }
   ],
   "source": [
    "df['Migrant ID type'].unique()"
   ]
  },
  {
   "cell_type": "code",
   "execution_count": 18,
   "metadata": {},
   "outputs": [],
   "source": [
    "df['Migrant ID type'].replace({'ADHAR':'AADHAR', 'AADHARE':'AADHAR','ADDHAR':'AADHAR','OTER ID':'VOTER ID','AAHAR':'AADHAR'}, inplace=True)"
   ]
  },
  {
   "cell_type": "code",
   "execution_count": 19,
   "metadata": {},
   "outputs": [
    {
     "data": {
      "text/plain": [
       "array(['AADHAR', nan, 'VOTER ID', 'vk/kkj', 'PAN CARD'], dtype=object)"
      ]
     },
     "execution_count": 19,
     "metadata": {},
     "output_type": "execute_result"
    }
   ],
   "source": [
    "df['Migrant ID type'].unique()"
   ]
  },
  {
   "cell_type": "code",
   "execution_count": 20,
   "metadata": {},
   "outputs": [
    {
     "data": {
      "text/plain": [
       "30"
      ]
     },
     "execution_count": 20,
     "metadata": {},
     "output_type": "execute_result"
    }
   ],
   "source": [
    "df['Migrant ID type'].isnull().sum()"
   ]
  },
  {
   "cell_type": "code",
   "execution_count": 21,
   "metadata": {},
   "outputs": [],
   "source": [
    "df['Migrant ID type']=df['Migrant ID type'].fillna('Unidentified') "
   ]
  },
  {
   "cell_type": "code",
   "execution_count": 22,
   "metadata": {},
   "outputs": [
    {
     "data": {
      "text/plain": [
       "array(['AADHAR', 'Unidentified', 'VOTER ID', 'vk/kkj', 'PAN CARD'],\n",
       "      dtype=object)"
      ]
     },
     "execution_count": 22,
     "metadata": {},
     "output_type": "execute_result"
    }
   ],
   "source": [
    "df['Migrant ID type'].unique()"
   ]
  },
  {
   "cell_type": "code",
   "execution_count": 23,
   "metadata": {},
   "outputs": [
    {
     "data": {
      "text/plain": [
       "array(['MUMBAI', 'Prayagraj', 'DELHI', 'INDORE', 'FARIDABAD', 'HYDRABAD',\n",
       "       'GUJRAT', 'MADHYA PRADESH', 'ANDHRA PRADESH', 'GURGAON',\n",
       "       'AHAMADABAD', 'KANPUR', 'ALIGARH', 'GONDA', nan, 'AMRITSAR',\n",
       "       'RAJASTHAN', 'BOMBAY', 'BALLABHGARH', 'NOIDA', 'AHEMADABAD',\n",
       "       'NAGPUR', 'MATHURA', 'AHAMDABAD', 'BHIMANDI', 'THANE', 'PUNE',\n",
       "       'SURAT', 'HAPUR', 'SAHARANPUR', 'HARYANA', 'BHIWNDI', 'AHMEDABAD',\n",
       "       'TELANGANA', 'HARIYANA', 'BHIWANDI', 'JALGAUV', 'RAJSTHAN',\n",
       "       'MAHARASTRA', 'KERALA', 'BRODARA', 'BANGOLORE', 'KERLA',\n",
       "       'MHARSATRA', 'LUCKNOW', 'GUDGAWA', 'NAGH PUR', 'MHARASTRA',\n",
       "       'AMDABAD', 'BANGLOR', 'JHASI', 'PUNA', 'SAHARAN PUR', 'HARAYAN',\n",
       "       'CHNADI GHAR', 'GAZIYABAD', 'NASIK', 'VASAI MUMBAI', 'BEGLORE',\n",
       "       'ULWAY MUMBAI', 'मुम्बई', 'मुम्बई भिवडी', 'सूरत', 'हैदराबाद',\n",
       "       'तेलंगाना', 'लुधियाना', 'हापुड', 'मुम्बई मानखुर्द एकतानगर',\n",
       "       'गुजरात गोधरा', 'थाने', 'वसई', 'बसई', 'अन्धेरी बेस्ट', 'पुणे',\n",
       "       'गुजरात', 'केरल', 'MUMBAI CST', 'AHAMADNAGAR', 'BELAUR', 'NIGOJ',\n",
       "       'MMBAI', 'MAHARSHTRA', 'fnYyh', 'Fkkus', 'eqEcbZ', 'POONA',\n",
       "       'MUMABAI', 'HENFRABAD', 'HAIDRABAD', 'BANGLORE', 'RAJESTHA',\n",
       "       'SOLAPUR', 'AGRA', 'JAMMU', 'GUJRAAT', 'BEGOLOR', 'AGARA',\n",
       "       'AHMADABAD', 'कानपुर', 'अहमदाबाद'], dtype=object)"
      ]
     },
     "execution_count": 23,
     "metadata": {},
     "output_type": "execute_result"
    }
   ],
   "source": [
    "df['City Coming From'].unique()"
   ]
  },
  {
   "cell_type": "code",
   "execution_count": 24,
   "metadata": {},
   "outputs": [],
   "source": [
    "df['City Coming From'].replace(['VASAI MUMBAI','ULWAY MUMBAI','मुम्बई', 'मुम्बई भिवडी','BOMBAY','मुम्बई मानखुर्द एकतानगर','MUMBAI CST','MMBAI','MUMABAI'], 'MUMBAI',inplace=True)"
   ]
  },
  {
   "cell_type": "code",
   "execution_count": 25,
   "metadata": {},
   "outputs": [],
   "source": [
    "df['City Coming From'].replace(['MAHARASTRA','MHARSATRA','MHARASTRA','MAHARSHTRA'], 'Maharashtra',inplace=True)"
   ]
  },
  {
   "cell_type": "code",
   "execution_count": 26,
   "metadata": {},
   "outputs": [],
   "source": [
    "df['City Coming From'].replace(['HARIYANA','HARAYAN','Haryana'], 'HARYANA',inplace=True)"
   ]
  },
  {
   "cell_type": "code",
   "execution_count": 27,
   "metadata": {},
   "outputs": [],
   "source": [
    "df['City Coming From'].replace(['GUJRAT','गुजरात गोधरा','गुजरात','GUJRAAT'],'GUJARAT',inplace=True)"
   ]
  },
  {
   "cell_type": "code",
   "execution_count": 28,
   "metadata": {},
   "outputs": [],
   "source": [
    "df['City Coming From'].replace(['BANGOLORE','BANGLOR', 'BEGLORE','BANGLORE','BEGOLOR'], 'Bangalore',inplace=True)"
   ]
  },
  {
   "cell_type": "code",
   "execution_count": 29,
   "metadata": {},
   "outputs": [],
   "source": [
    "df['City Coming From'].replace(['AHAMADABAD','AHEMADABAD','AHAMDABAD','AMDABAD','AHMADABAD','अहमदाबाद'],'AHMEDABAD',inplace=True)"
   ]
  },
  {
   "cell_type": "code",
   "execution_count": 30,
   "metadata": {},
   "outputs": [],
   "source": [
    "df['City Coming From'].replace(['HYDRABAD','HENFRABAD', 'HAIDRABAD','हैदराबाद'], 'HYDERABAD',inplace=True)"
   ]
  },
  {
   "cell_type": "code",
   "execution_count": 31,
   "metadata": {},
   "outputs": [],
   "source": [
    "df['City Coming From'].replace(['fnYyh', 'Fkkus', 'eqEcbZ'], \"don't know\",inplace=True)"
   ]
  },
  {
   "cell_type": "code",
   "execution_count": 32,
   "metadata": {},
   "outputs": [],
   "source": [
    "df['City Coming From'].replace(['KERLA','केरल'], 'KERALA',inplace=True)"
   ]
  },
  {
   "cell_type": "code",
   "execution_count": 33,
   "metadata": {},
   "outputs": [],
   "source": [
    "df['City Coming From'].replace(['हापुड'], 'HAPUR',inplace=True)"
   ]
  },
  {
   "cell_type": "code",
   "execution_count": 34,
   "metadata": {},
   "outputs": [],
   "source": [
    "df['City Coming From'].replace(['NAGH PUR'], 'NAGPUR',inplace=True)"
   ]
  },
  {
   "cell_type": "code",
   "execution_count": 35,
   "metadata": {},
   "outputs": [],
   "source": [
    "df['City Coming From'].replace(['BHIMANDI','BHIWNDI'], 'BHIWANDI',inplace=True)"
   ]
  },
  {
   "cell_type": "code",
   "execution_count": 36,
   "metadata": {},
   "outputs": [],
   "source": [
    "df['City Coming From'].replace(['कानपुर'], 'KANPUR',inplace=True)"
   ]
  },
  {
   "cell_type": "code",
   "execution_count": 37,
   "metadata": {},
   "outputs": [],
   "source": [
    "df['City Coming From'].replace(['AGARA'], 'AGRA',inplace=True)"
   ]
  },
  {
   "cell_type": "code",
   "execution_count": 38,
   "metadata": {},
   "outputs": [],
   "source": [
    "df['City Coming From'].replace(['GUDGAWA'], 'GURGAON',inplace=True)"
   ]
  },
  {
   "cell_type": "code",
   "execution_count": 39,
   "metadata": {},
   "outputs": [],
   "source": [
    "df['City Coming From'].replace(['RAJESTHA','RAJSTHAN'], 'RAJASTHAN',inplace=True)"
   ]
  },
  {
   "cell_type": "code",
   "execution_count": 40,
   "metadata": {},
   "outputs": [],
   "source": [
    "df['City Coming From']=df['City Coming From'].fillna('Unidentified') "
   ]
  },
  {
   "cell_type": "code",
   "execution_count": 41,
   "metadata": {},
   "outputs": [],
   "source": [
    "df['City Coming From'].replace(['पुणे','POONA'], 'PUNE',inplace=True)"
   ]
  },
  {
   "cell_type": "code",
   "execution_count": 42,
   "metadata": {},
   "outputs": [
    {
     "data": {
      "text/plain": [
       "array(['MUMBAI', 'Prayagraj', 'DELHI', 'INDORE', 'FARIDABAD', 'HYDERABAD',\n",
       "       'GUJARAT', 'MADHYA PRADESH', 'ANDHRA PRADESH', 'GURGAON',\n",
       "       'AHMEDABAD', 'KANPUR', 'ALIGARH', 'GONDA', 'Unidentified',\n",
       "       'AMRITSAR', 'RAJASTHAN', 'BALLABHGARH', 'NOIDA', 'NAGPUR',\n",
       "       'MATHURA', 'BHIWANDI', 'THANE', 'PUNE', 'SURAT', 'HAPUR',\n",
       "       'SAHARANPUR', 'HARYANA', 'TELANGANA', 'JALGAUV', 'Maharashtra',\n",
       "       'KERALA', 'BRODARA', 'Bangalore', 'LUCKNOW', 'JHASI', 'PUNA',\n",
       "       'SAHARAN PUR', 'CHNADI GHAR', 'GAZIYABAD', 'NASIK', 'सूरत',\n",
       "       'तेलंगाना', 'लुधियाना', 'थाने', 'वसई', 'बसई', 'अन्धेरी बेस्ट',\n",
       "       'AHAMADNAGAR', 'BELAUR', 'NIGOJ', \"don't know\", 'SOLAPUR', 'AGRA',\n",
       "       'JAMMU'], dtype=object)"
      ]
     },
     "execution_count": 42,
     "metadata": {},
     "output_type": "execute_result"
    }
   ],
   "source": [
    "df['City Coming From'].unique()"
   ]
  },
  {
   "cell_type": "code",
   "execution_count": 43,
   "metadata": {},
   "outputs": [
    {
     "data": {
      "text/plain": [
       "array(['YES', '-', 'Yes', nan, 'हाॅ', 'हां', 'gka'], dtype=object)"
      ]
     },
     "execution_count": 43,
     "metadata": {},
     "output_type": "execute_result"
    }
   ],
   "source": [
    "df['Health Check up when leaving city?'].unique()"
   ]
  },
  {
   "cell_type": "code",
   "execution_count": 44,
   "metadata": {},
   "outputs": [],
   "source": [
    "df['Health Check up when leaving city?'].replace(['Yes', 'हाॅ', 'हां'], 'YES',inplace=True)"
   ]
  },
  {
   "cell_type": "code",
   "execution_count": 45,
   "metadata": {},
   "outputs": [],
   "source": [
    "df['Health Check up when leaving city?'].replace([ '-'], 'NO',inplace=True)"
   ]
  },
  {
   "cell_type": "code",
   "execution_count": 46,
   "metadata": {},
   "outputs": [],
   "source": [
    "df['Health Check up when leaving city?']=df['Health Check up when leaving city?'].fillna('NO') "
   ]
  },
  {
   "cell_type": "code",
   "execution_count": 47,
   "metadata": {},
   "outputs": [
    {
     "data": {
      "text/plain": [
       "array([7, 5, nan, 2, 1, 6, 3, 4, 8, 15, 10, 25, 13, 9, 20, 33, 18, 11, 40,\n",
       "       19, 27, 17, 12, 30, '4माह', '5माह', '2MONTHS', '6MONTH', 22, 14,\n",
       "       28], dtype=object)"
      ]
     },
     "execution_count": 47,
     "metadata": {},
     "output_type": "execute_result"
    }
   ],
   "source": [
    "df['Years of Experience'].unique()"
   ]
  },
  {
   "cell_type": "code",
   "execution_count": 48,
   "metadata": {},
   "outputs": [],
   "source": [
    "df['Years of Experience'].replace(to_replace = '4माह', value =0.3,inplace=True)"
   ]
  },
  {
   "cell_type": "code",
   "execution_count": 49,
   "metadata": {},
   "outputs": [],
   "source": [
    "df['Years of Experience'].replace(to_replace = '5माह', value =0.4,inplace=True)"
   ]
  },
  {
   "cell_type": "code",
   "execution_count": 50,
   "metadata": {},
   "outputs": [],
   "source": [
    "df['Years of Experience'].replace(to_replace = '2MONTHS', value =0.1,inplace=True)"
   ]
  },
  {
   "cell_type": "code",
   "execution_count": 51,
   "metadata": {},
   "outputs": [],
   "source": [
    "df['Years of Experience'].replace(to_replace = '6MONTH', value =0.5,inplace=True)"
   ]
  },
  {
   "cell_type": "code",
   "execution_count": 52,
   "metadata": {},
   "outputs": [
    {
     "data": {
      "text/plain": [
       "array([ 7. ,  5. ,  nan,  2. ,  1. ,  6. ,  3. ,  4. ,  8. , 15. , 10. ,\n",
       "       25. , 13. ,  9. , 20. , 33. , 18. , 11. , 40. , 19. , 27. , 17. ,\n",
       "       12. , 30. ,  0.3,  0.4,  0.1,  0.5, 22. , 14. , 28. ])"
      ]
     },
     "execution_count": 52,
     "metadata": {},
     "output_type": "execute_result"
    }
   ],
   "source": [
    "df['Years of Experience'].unique()"
   ]
  },
  {
   "cell_type": "code",
   "execution_count": 53,
   "metadata": {},
   "outputs": [],
   "source": [
    "df['Years of Experience']=df['Years of Experience'].fillna(df['Years of Experience'].mean())"
   ]
  },
  {
   "cell_type": "code",
   "execution_count": 54,
   "metadata": {},
   "outputs": [
    {
     "data": {
      "text/plain": [
       "array([nan, 'MAJDURI', 'MAJDUI', 'CENTRING', 'PAINTING', 'HOME', 'OTHER',\n",
       "       'HAZI BABA', 'WAGE', 'D D CORE F6', 'ADIYA INTERPRIZE', 'PVT',\n",
       "       'ACCAT COMPANEY', 'MUMBAI', 'BEGLORE', 'TRAK', 'मुम्बई', 'सूरत',\n",
       "       'हैदराबाद', 'तेलंगाना', 'लुधियाना', 'त्रिशूल', 'HARIYANA',\n",
       "       'GUJRAT', 'BELAUR', 'NIGOJ', 'MAHARASHTRA', 'TELANGANA', 'OM BSA',\n",
       "       'गुजरात', 'कानपुर'], dtype=object)"
      ]
     },
     "execution_count": 54,
     "metadata": {},
     "output_type": "execute_result"
    }
   ],
   "source": [
    "df['Where did you work'].unique()"
   ]
  },
  {
   "cell_type": "code",
   "execution_count": 55,
   "metadata": {},
   "outputs": [],
   "source": [
    "df['Where did you work'].replace(['मुम्बई'], 'MUMBAI',inplace=True)"
   ]
  },
  {
   "cell_type": "code",
   "execution_count": 56,
   "metadata": {},
   "outputs": [],
   "source": [
    "df['Where did you work'].replace(['तेलंगाना'], 'TELANGANA',inplace=True)"
   ]
  },
  {
   "cell_type": "code",
   "execution_count": 57,
   "metadata": {},
   "outputs": [],
   "source": [
    "df['Where did you work'].replace(['MAJDUI'], 'MAJDURI',inplace=True)"
   ]
  },
  {
   "cell_type": "code",
   "execution_count": 58,
   "metadata": {},
   "outputs": [
    {
     "data": {
      "text/plain": [
       "array([nan, 'MAJDURI', 'CENTRING', 'PAINTING', 'HOME', 'OTHER',\n",
       "       'HAZI BABA', 'WAGE', 'D D CORE F6', 'ADIYA INTERPRIZE', 'PVT',\n",
       "       'ACCAT COMPANEY', 'MUMBAI', 'BEGLORE', 'TRAK', 'सूरत', 'हैदराबाद',\n",
       "       'TELANGANA', 'लुधियाना', 'त्रिशूल', 'HARIYANA', 'GUJRAT', 'BELAUR',\n",
       "       'NIGOJ', 'MAHARASHTRA', 'OM BSA', 'गुजरात', 'कानपुर'], dtype=object)"
      ]
     },
     "execution_count": 58,
     "metadata": {},
     "output_type": "execute_result"
    }
   ],
   "source": [
    "df['Where did you work'].unique()"
   ]
  },
  {
   "cell_type": "code",
   "execution_count": 59,
   "metadata": {},
   "outputs": [],
   "source": [
    "df['Where did you work']=df['Where did you work'].fillna('OTHER') "
   ]
  },
  {
   "cell_type": "code",
   "execution_count": 60,
   "metadata": {},
   "outputs": [],
   "source": [
    "df['Skill']=df['Skill'].fillna('Unknown')"
   ]
  },
  {
   "cell_type": "code",
   "execution_count": 61,
   "metadata": {},
   "outputs": [],
   "source": [
    "df['Alternate Skill']=df['Alternate Skill'].fillna('None')"
   ]
  },
  {
   "cell_type": "code",
   "execution_count": 62,
   "metadata": {},
   "outputs": [
    {
     "name": "stdout",
     "output_type": "stream",
     "text": [
      "<class 'pandas.core.frame.DataFrame'>\n",
      "RangeIndex: 710 entries, 0 to 709\n",
      "Data columns (total 13 columns):\n",
      " #   Column                              Non-Null Count  Dtype  \n",
      "---  ------                              --------------  -----  \n",
      " 0   S.No.                               710 non-null    int64  \n",
      " 1   District Name                       710 non-null    object \n",
      " 2   Block Name                          710 non-null    object \n",
      " 3   Migrant Age                         710 non-null    float64\n",
      " 4   Migrant Gender                      710 non-null    object \n",
      " 5   Migrant ID type                     710 non-null    object \n",
      " 6   Date of Arrival                     710 non-null    object \n",
      " 7   City Coming From                    710 non-null    object \n",
      " 8   Health Check up when leaving city?  710 non-null    object \n",
      " 9   Skill                               710 non-null    object \n",
      " 10  Years of Experience                 710 non-null    float64\n",
      " 11  Alternate Skill                     710 non-null    object \n",
      " 12  Where did you work                  710 non-null    object \n",
      "dtypes: float64(2), int64(1), object(10)\n",
      "memory usage: 72.2+ KB\n"
     ]
    }
   ],
   "source": [
    "df.info()"
   ]
  },
  {
   "cell_type": "code",
   "execution_count": 65,
   "metadata": {},
   "outputs": [],
   "source": [
    "df.to_csv('newfile.csv') "
   ]
  },
  {
   "cell_type": "code",
   "execution_count": null,
   "metadata": {},
   "outputs": [],
   "source": []
  },
  {
   "cell_type": "code",
   "execution_count": null,
   "metadata": {},
   "outputs": [],
   "source": []
  }
 ],
 "metadata": {
  "kernelspec": {
   "display_name": "Python 3",
   "language": "python",
   "name": "python3"
  },
  "language_info": {
   "codemirror_mode": {
    "name": "ipython",
    "version": 3
   },
   "file_extension": ".py",
   "mimetype": "text/x-python",
   "name": "python",
   "nbconvert_exporter": "python",
   "pygments_lexer": "ipython3",
   "version": "3.7.6"
  }
 },
 "nbformat": 4,
 "nbformat_minor": 4
}
